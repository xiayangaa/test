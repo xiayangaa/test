{
 "cells": [
  {
   "cell_type": "markdown",
   "metadata": {},
   "source": [
    "# 基本程序设计\n",
    "- 一切代码输入，请使用英文输入法"
   ]
  },
  {
   "cell_type": "code",
   "execution_count": 4,
   "metadata": {},
   "outputs": [
    {
     "name": "stdout",
     "output_type": "stream",
     "text": [
      "hello world\n"
     ]
    }
   ],
   "source": [
    "print('hello world')"
   ]
  },
  {
   "cell_type": "markdown",
   "metadata": {},
   "source": [
    "## 编写一个简单的程序\n",
    "- 圆公式面积： area = radius \\* radius \\* 3.1415"
   ]
  },
  {
   "cell_type": "markdown",
   "metadata": {},
   "source": [
    "### 在Python里面不需要定义数据的类型"
   ]
  },
  {
   "cell_type": "markdown",
   "metadata": {},
   "source": [
    "## 控制台的读取与输入\n",
    "- input 输入进去的是字符串\n",
    "- eval"
   ]
  },
  {
   "cell_type": "code",
   "execution_count": 5,
   "metadata": {},
   "outputs": [
    {
     "name": "stdout",
     "output_type": "stream",
     "text": [
      "请输入正方形变长5\n",
      "25\n"
     ]
    }
   ],
   "source": [
    "bian = int(input('请输入正方形变长')) #不需要定义数据类型\n",
    "area = bian * bian\n",
    "print(area)"
   ]
  },
  {
   "cell_type": "markdown",
   "metadata": {},
   "source": [
    "- 在jupyter用shift + tab 键可以跳出解释文档"
   ]
  },
  {
   "cell_type": "markdown",
   "metadata": {},
   "source": [
    "## 变量命名的规范\n",
    "- 由字母、数字、下划线构成\n",
    "- 不能以数字开头 \\*\n",
    "- 标识符不能是关键词(实际上是可以强制改变的，但是对于代码规范而言是极其不适合)\n",
    "- 可以是任意长度\n",
    "- 驼峰式命名"
   ]
  },
  {
   "cell_type": "markdown",
   "metadata": {},
   "source": [
    "## 变量、赋值语句和赋值表达式\n",
    "- 变量: 通俗理解为可以变化的量\n",
    "- x = 2 \\* x + 1 在数学中是一个方程，而在语言中它是一个表达式\n",
    "- test = test + 1 \\* 变量在赋值之前必须有值"
   ]
  },
  {
   "cell_type": "markdown",
   "metadata": {},
   "source": [
    "## 同时赋值\n",
    "var1, var2,var3... = exp1,exp2,exp3..."
   ]
  },
  {
   "cell_type": "markdown",
   "metadata": {},
   "source": [
    "## 定义常量\n",
    "- 常量：表示一种定值标识符，适合于多次使用的场景。比如PI\n",
    "- 注意：在其他低级语言中如果定义了常量，那么，该常量是不可以被改变的，但是在Python中一切皆对象，常量也是可以被改变的"
   ]
  },
  {
   "cell_type": "markdown",
   "metadata": {},
   "source": [
    "## 数值数据类型和运算符\n",
    "- 在Python中有两种数值类型（int 和 float）适用于加减乘除、模、幂次\n",
    "<img src = \"../Photo/01.jpg\"></img>"
   ]
  },
  {
   "cell_type": "markdown",
   "metadata": {},
   "source": [
    "## 运算符 /、//、**"
   ]
  },
  {
   "cell_type": "markdown",
   "metadata": {},
   "source": [
    "## 运算符 %"
   ]
  },
  {
   "cell_type": "markdown",
   "metadata": {},
   "source": [
    "## EP：\n",
    "- 25/4 多少，如果要将其转变为整数该怎么改写\n",
    "- 输入一个数字判断是奇数还是偶数\n",
    "- 进阶: 输入一个秒数，写一个程序将其转换成分和秒：例如500秒等于8分20秒\n",
    "- 进阶: 如果今天是星期六，那么10天以后是星期几？ 提示：每个星期的第0天是星期天"
   ]
  },
  {
   "cell_type": "code",
   "execution_count": 11,
   "metadata": {
    "scrolled": true
   },
   "outputs": [
    {
     "data": {
      "text/plain": [
       "6"
      ]
     },
     "execution_count": 11,
     "metadata": {},
     "output_type": "execute_result"
    }
   ],
   "source": [
    "int(25 /4)"
   ]
  },
  {
   "cell_type": "code",
   "execution_count": 32,
   "metadata": {},
   "outputs": [
    {
     "name": "stdout",
     "output_type": "stream",
     "text": [
      ">>6\n",
      "输入的数字6是偶数\n"
     ]
    }
   ],
   "source": [
    "num = eval(input('>>'))\n",
    "if num%2 == 0:\n",
    "    print('输入的数字'+str(num) +'是偶数')\n",
    "elif num%2 == 1:\n",
    "    print('输入的数字'+str(num) +'是奇数')"
   ]
  },
  {
   "cell_type": "code",
   "execution_count": 27,
   "metadata": {},
   "outputs": [
    {
     "name": "stdout",
     "output_type": "stream",
     "text": [
      ">>500\n",
      "8分 20秒\n"
     ]
    }
   ],
   "source": [
    "miao = eval(input('>>'))\n",
    "fen,miao = miao //60 , miao %60\n",
    "print(str(fen) + '分',str(miao) + '秒')"
   ]
  },
  {
   "cell_type": "code",
   "execution_count": 4,
   "metadata": {},
   "outputs": [
    {
     "name": "stdout",
     "output_type": "stream",
     "text": [
      ">>6\n",
      "今天是周6，10天之后是星期2\n"
     ]
    }
   ],
   "source": [
    "weekend = eval(input('>>'))#进阶: 如果今天是星期六，那么10天以后是星期几？ 提示：每个星期的第0天是星期天\n",
    "res = (weekend + 10) %7\n",
    "print('今天是周'+str(weekend)+'，10天之后是星期'+str(res))"
   ]
  },
  {
   "cell_type": "markdown",
   "metadata": {},
   "source": [
    "## 科学计数法\n",
    "- 1.234e+2\n",
    "- 1.234e-2"
   ]
  },
  {
   "cell_type": "code",
   "execution_count": 42,
   "metadata": {},
   "outputs": [
    {
     "data": {
      "text/plain": [
       "123.4"
      ]
     },
     "execution_count": 42,
     "metadata": {},
     "output_type": "execute_result"
    }
   ],
   "source": [
    "1.234e+2"
   ]
  },
  {
   "cell_type": "code",
   "execution_count": 43,
   "metadata": {},
   "outputs": [
    {
     "data": {
      "text/plain": [
       "0.01234"
      ]
     },
     "execution_count": 43,
     "metadata": {},
     "output_type": "execute_result"
    }
   ],
   "source": [
    "1.234e-2"
   ]
  },
  {
   "cell_type": "markdown",
   "metadata": {},
   "source": [
    "## 计算表达式和运算优先级\n",
    "<img src = \"../Photo/02.png\"></img>\n",
    "<img src = \"../Photo/03.png\"></img>"
   ]
  },
  {
   "cell_type": "code",
   "execution_count": 5,
   "metadata": {},
   "outputs": [
    {
     "name": "stdout",
     "output_type": "stream",
     "text": [
      "38.699999999999996\n"
     ]
    }
   ],
   "source": [
    "x,y,a,b,c = 10,6,0,1,1\n",
    "sum1 = (3+4*x)/5\n",
    "sum2 = (x*(y-5)*(a+b+c))/x\n",
    "sum3 = 9*((4/x)+((9+x)/y))\n",
    "sum = sum1-sum2+sum3\n",
    "print(sum)"
   ]
  },
  {
   "cell_type": "markdown",
   "metadata": {},
   "source": [
    "## 增强型赋值运算\n",
    "<img src = \"../Photo/04.png\"></img>"
   ]
  },
  {
   "cell_type": "markdown",
   "metadata": {},
   "source": [
    "## 类型转换\n",
    "- float  -> int\n",
    "- 四舍五入 round"
   ]
  },
  {
   "cell_type": "code",
   "execution_count": 40,
   "metadata": {},
   "outputs": [
    {
     "data": {
      "text/plain": [
       "3.14"
      ]
     },
     "execution_count": 40,
     "metadata": {},
     "output_type": "execute_result"
    }
   ],
   "source": [
    "round(3.1415926,2)  #要四舍五入的值，保留小数位"
   ]
  },
  {
   "cell_type": "markdown",
   "metadata": {},
   "source": [
    "## EP:\n",
    "- 如果一个年营业税为0.06%，那么对于197.55e+2的年收入，需要交税为多少？(结果保留2为小数)\n",
    "- 必须使用科学计数法"
   ]
  },
  {
   "cell_type": "code",
   "execution_count": 47,
   "metadata": {},
   "outputs": [
    {
     "data": {
      "text/plain": [
       "11.85"
      ]
     },
     "execution_count": 47,
     "metadata": {},
     "output_type": "execute_result"
    }
   ],
   "source": [
    "round(((6e-4)*(197.55e+2)),2)"
   ]
  },
  {
   "cell_type": "markdown",
   "metadata": {},
   "source": [
    "# Project\n",
    "- 用Python写一个贷款计算器程序：输入的是月供(monthlyPayment) 输出的是总还款数(totalpayment)\n",
    "![](../Photo/05.png)"
   ]
  },
  {
   "cell_type": "code",
   "execution_count": 11,
   "metadata": {},
   "outputs": [
    {
     "name": "stdout",
     "output_type": "stream",
     "text": [
      "money,month,rate,years10000,100,0.02,1\n",
      "11347.15159475417\n"
     ]
    }
   ],
   "source": [
    "贷款数,月供,月利率,年限=eval(input('money,month,rate,years'))\n",
    "月供 = (贷款数 * 月利率) / (1 - (1 / (1 + 月利率)**(年限 * 12)))\n",
    "总还款数 = 月供 * 年限 * 12\n",
    "print(总还款数)"
   ]
  },
  {
   "cell_type": "markdown",
   "metadata": {},
   "source": [
    "# Homework\n",
    "- 1\n",
    "<img src=\"../Photo/06.png\"></img>"
   ]
  },
  {
   "cell_type": "code",
   "execution_count": 12,
   "metadata": {},
   "outputs": [
    {
     "name": "stdout",
     "output_type": "stream",
     "text": [
      "Enter a degree in Celsius:43\n",
      "43 celsius is 109.4 fahrenheit\n"
     ]
    }
   ],
   "source": [
    "celsius = eval(input('Enter a degree in Celsius:'))\n",
    "fahrenheit = (9/5)*celsius+32\n",
    "print(str(celsius) + ' celsius is ' + str(fahrenheit)+' fahrenheit')"
   ]
  },
  {
   "cell_type": "markdown",
   "metadata": {},
   "source": [
    "- 2\n",
    "<img src=\"../Photo/07.png\"></img>"
   ]
  },
  {
   "cell_type": "code",
   "execution_count": 22,
   "metadata": {},
   "outputs": [
    {
     "name": "stdout",
     "output_type": "stream",
     "text": [
      "Enter the radius and length of a cylinder:5.5,12\n",
      "The area is 94.985\n",
      "The volume is 1139.82\n"
     ]
    }
   ],
   "source": [
    "radius,length = eval(input('Enter the radius and length of a cylinder:'))\n",
    "area = radius*radius*3.14\n",
    "volume = area*length\n",
    "print('The area is '+str(area))\n",
    "print('The volume is '+str(volume))"
   ]
  },
  {
   "cell_type": "markdown",
   "metadata": {},
   "source": [
    "- 3\n",
    "<img src=\"../Photo/08.png\"></img>"
   ]
  },
  {
   "cell_type": "code",
   "execution_count": 20,
   "metadata": {},
   "outputs": [
    {
     "name": "stdout",
     "output_type": "stream",
     "text": [
      "Enter a value for feet:16.5\n",
      "16.5 feet is 5.0325 meters\n"
     ]
    }
   ],
   "source": [
    "feet = eval(input('Enter a value for feet:'))\n",
    "meters = feet*0.305\n",
    "print(str(feet)+' feet is '+str(meters)+' meters')"
   ]
  },
  {
   "cell_type": "markdown",
   "metadata": {},
   "source": [
    "- 4\n",
    "<img src=\"../Photo/10.png\"></img>"
   ]
  },
  {
   "cell_type": "code",
   "execution_count": 26,
   "metadata": {},
   "outputs": [
    {
     "name": "stdout",
     "output_type": "stream",
     "text": [
      "Enter the amount of water in kilograms: 55.5\n",
      "Enter the initial temperature: 3.5\n",
      "Enter the final temperature: 10.5\n",
      "The energy needed is 1625484.0\n"
     ]
    }
   ],
   "source": [
    "M = eval(input('Enter the amount of water in kilograms: '))\n",
    "initialTemperature = eval(input('Enter the initial temperature: '))\n",
    "finalTemperature = eval(input('Enter the final temperature: '))\n",
    "Q = M * (finalTemperature - initialTemperature) *4184\n",
    "print('The energy needed is ' +str(Q))"
   ]
  },
  {
   "cell_type": "markdown",
   "metadata": {},
   "source": [
    "- 5\n",
    "<img src=\"../Photo/11.png\"></img>"
   ]
  },
  {
   "cell_type": "code",
   "execution_count": 28,
   "metadata": {},
   "outputs": [
    {
     "name": "stdout",
     "output_type": "stream",
     "text": [
      "Enter balance and interest rate(e.g., 3 for 3%): 1000,3.5\n",
      "The interest is 2.916666666666667\n"
     ]
    }
   ],
   "source": [
    "差额,年利率 = eval(input('Enter balance and interest rate(e.g., 3 for 3%): '))\n",
    "利息 = 差额 * (年利率 /1200)\n",
    "print('The interest is '+str(利息))"
   ]
  },
  {
   "cell_type": "markdown",
   "metadata": {},
   "source": [
    "- 6\n",
    "<img src=\"../Photo/12.png\"></img>"
   ]
  },
  {
   "cell_type": "code",
   "execution_count": 31,
   "metadata": {},
   "outputs": [
    {
     "name": "stdout",
     "output_type": "stream",
     "text": [
      "Enter v0,v1,and t: 5.5,50.9,4.5\n",
      "The average acceleration is 10.088888888888889\n"
     ]
    }
   ],
   "source": [
    "v0,v1,t = eval(input('Enter v0,v1,and t: '))\n",
    "a = (v1-v0)/t\n",
    "print('The average acceleration is '+str(a))"
   ]
  },
  {
   "cell_type": "markdown",
   "metadata": {},
   "source": [
    "- 7 进阶\n",
    "<img src=\"../Photo/13.png\"></img>"
   ]
  },
  {
   "cell_type": "code",
   "execution_count": 41,
   "metadata": {},
   "outputs": [
    {
     "name": "stdout",
     "output_type": "stream",
     "text": [
      "Enter the monthly saving amount: 100\n",
      "After the sixth month,the account value is 608.8181155768638\n"
     ]
    }
   ],
   "source": [
    "m = eval(input('Enter the monthly saving amount: '))\n",
    "m1 =  m*(1+0.00417)\n",
    "m2 = (100+m1)*(1+0.00417)\n",
    "m3 = (100+m2)*(1+0.00417)\n",
    "m4 = (100+m3)*(1+0.00417)\n",
    "m5 = (100+m4)*(1+0.00417)\n",
    "m6 = (100+m5)*(1+0.00417)\n",
    "print('After the sixth month,the account value is '+str(m6))"
   ]
  },
  {
   "cell_type": "markdown",
   "metadata": {},
   "source": [
    "- 8 进阶\n",
    "<img src=\"../Photo/14.png\"></img>"
   ]
  },
  {
   "cell_type": "code",
   "execution_count": 40,
   "metadata": {},
   "outputs": [
    {
     "name": "stdout",
     "output_type": "stream",
     "text": [
      "Enter a number between 0 and 1000: 999\n",
      "The sum of the digits is 27\n"
     ]
    }
   ],
   "source": [
    "shu = eval(input('Enter a number between 0 and 1000: '))\n",
    "ge = shu %10\n",
    "shi = (shu//10)%10\n",
    "bai = shu//100\n",
    "sum = ge+shi+bai\n",
    "print('The sum of the digits is '+str(sum))"
   ]
  }
 ],
 "metadata": {
  "kernelspec": {
   "display_name": "Python 3",
   "language": "python",
   "name": "python3"
  },
  "language_info": {
   "codemirror_mode": {
    "name": "ipython",
    "version": 3
   },
   "file_extension": ".py",
   "mimetype": "text/x-python",
   "name": "python",
   "nbconvert_exporter": "python",
   "pygments_lexer": "ipython3",
   "version": "3.6.4"
  }
 },
 "nbformat": 4,
 "nbformat_minor": 2
}
