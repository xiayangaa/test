{
 "cells": [
  {
   "cell_type": "markdown",
   "metadata": {},
   "source": [
    "# 选择\n",
    "## 布尔类型、数值和表达式\n",
    "![](../Photo/33.png)\n",
    "- 注意：比较运算符的相等是两个等到，一个等到代表赋值\n",
    "- 在Python中可以用整型0来代表False，其他数字来代表True\n",
    "- 后面还会讲到 is 在判断语句中的用发"
   ]
  },
  {
   "cell_type": "code",
   "execution_count": 2,
   "metadata": {},
   "outputs": [
    {
     "data": {
      "text/plain": [
       "True"
      ]
     },
     "execution_count": 2,
     "metadata": {},
     "output_type": "execute_result"
    }
   ],
   "source": [
    "10 == 10"
   ]
  },
  {
   "cell_type": "markdown",
   "metadata": {},
   "source": [
    "## 字符串的比较使用ASCII值"
   ]
  },
  {
   "cell_type": "code",
   "execution_count": 3,
   "metadata": {},
   "outputs": [
    {
     "data": {
      "text/plain": [
       "False"
      ]
     },
     "execution_count": 3,
     "metadata": {},
     "output_type": "execute_result"
    }
   ],
   "source": [
    "'a' > 'b'"
   ]
  },
  {
   "cell_type": "code",
   "execution_count": 7,
   "metadata": {},
   "outputs": [
    {
     "name": "stdout",
     "output_type": "stream",
     "text": [
      ">>76\n",
      "c\n"
     ]
    }
   ],
   "source": [
    "shu = eval(input('>>'))\n",
    "if shu>= 90:\n",
    "   print('a')\n",
    "elif 90 > shu >=80:\n",
    "   print('b')\n",
    "elif 80 > shu >=70:\n",
    "   print('c')\n",
    "elif 70 > shu >=60:\n",
    "   print('d')\n",
    "elif shu <=60:\n",
    "   print('t')"
   ]
  },
  {
   "cell_type": "markdown",
   "metadata": {},
   "source": [
    "## Markdown \n",
    "- https://github.com/younghz/Markdown"
   ]
  },
  {
   "cell_type": "markdown",
   "metadata": {},
   "source": [
    "## EP:\n",
    "- <img src=\"../Photo/34.png\"></img>\n",
    "- 输入一个数字，判断其实奇数还是偶数"
   ]
  },
  {
   "cell_type": "markdown",
   "metadata": {},
   "source": [
    "## 产生随机数字\n",
    "- 函数random.randint(a,b) 可以用来产生一个a和b之间且包括a和b的随机整数"
   ]
  },
  {
   "cell_type": "code",
   "execution_count": 17,
   "metadata": {},
   "outputs": [
    {
     "name": "stdout",
     "output_type": "stream",
     "text": [
      ">>2\n",
      "太大了\n",
      ">>3\n",
      "太大了\n",
      ">>1\n",
      "厉害了\n"
     ]
    }
   ],
   "source": [
    "import random\n",
    "num = eval(input('>>'))\n",
    "res = random.randint(1,3)\n",
    "while num!=res:\n",
    "    if num > res:\n",
    "        print('太大了')\n",
    "        num = eval(input('>>'))\n",
    "    elif num < res:\n",
    "        print('太小了')\n",
    "        num = eval(input('>>'))\n",
    "print('厉害了')"
   ]
  },
  {
   "cell_type": "code",
   "execution_count": null,
   "metadata": {},
   "outputs": [],
   "source": [
    "import random\n",
    "res = random.randint(1,3)\n",
    "while True:\n",
    "    num = eval(input('输入一个随机数：'))\n",
    "    if num > res:\n",
    "        print('你输入的数太大了。')\n",
    "    elif num < res:\n",
    "        print('你输入的数太小了。')\n",
    "    elif num == res:\n",
    "        print('满意。')\n",
    "        break"
   ]
  },
  {
   "cell_type": "markdown",
   "metadata": {},
   "source": [
    "##  其他random方法\n",
    "- random.random 返回0.0到1.0之间前闭后开区间的随机浮点\n",
    "- random.randrange(a,b) 前闭后开"
   ]
  },
  {
   "cell_type": "code",
   "execution_count": 18,
   "metadata": {},
   "outputs": [
    {
     "data": {
      "text/plain": [
       "0.8499909633077924"
      ]
     },
     "execution_count": 18,
     "metadata": {},
     "output_type": "execute_result"
    }
   ],
   "source": [
    "random.random()"
   ]
  },
  {
   "cell_type": "code",
   "execution_count": 19,
   "metadata": {},
   "outputs": [
    {
     "data": {
      "text/plain": [
       "4"
      ]
     },
     "execution_count": 19,
     "metadata": {},
     "output_type": "execute_result"
    }
   ],
   "source": [
    "random.randrange(0,10,2)"
   ]
  },
  {
   "cell_type": "markdown",
   "metadata": {},
   "source": [
    "## EP：\n",
    "- 产生两个随机整数number1和number2，然后显示给用户，使用户输入数字的和，并判定其是否正确\n",
    "- 进阶:写一个随机序号点名程序"
   ]
  },
  {
   "cell_type": "code",
   "execution_count": 17,
   "metadata": {},
   "outputs": [
    {
     "name": "stdout",
     "output_type": "stream",
     "text": [
      "随机数1： 3\n",
      "随机数2： 1\n",
      ">>5\n",
      "False\n"
     ]
    }
   ],
   "source": [
    "import random\n",
    "number1 = random.randint(1,3)\n",
    "print('随机数1： '+str(number1))\n",
    "number2 = random.randint(1,3)\n",
    "print('随机数2： '+str(number2))\n",
    "while True:\n",
    "    num = eval(input('>>'))\n",
    "    if num == number1 + number2:\n",
    "        print('Ture')\n",
    "        break\n",
    "    else:\n",
    "        print('False')\n",
    "        break"
   ]
  },
  {
   "cell_type": "code",
   "execution_count": 18,
   "metadata": {},
   "outputs": [
    {
     "name": "stdout",
     "output_type": "stream",
     "text": [
      "孙七\n"
     ]
    }
   ],
   "source": [
    "import random\n",
    "names = ['刘一','陈二','张三','李四','王五','赵六','孙七','周八','吴九','郑十']\n",
    "index = random.randint(0,len(names)-1)\n",
    "print(names[index])"
   ]
  },
  {
   "cell_type": "markdown",
   "metadata": {},
   "source": [
    "## if语句\n",
    "- 如果条件正确就执行一个单向if语句，亦即当条件为真的时候才执行if内部的语句\n",
    "- Python有很多选择语句:\n",
    "> - 单向if \n",
    "  - 双向if-else\n",
    "  - 嵌套if\n",
    "  - 多向if-elif-else\n",
    "  \n",
    "- 注意：当语句含有子语句的时候，那么一定至少要有一个缩进，也就是说如果有儿子存在，那么一定要缩进\n",
    "- 切记不可tab键和space混用，单用tab 或者 space\n",
    "- 当你输出的结果是无论if是否为真时都需要显示时，语句应该与if对齐"
   ]
  },
  {
   "cell_type": "code",
   "execution_count": 21,
   "metadata": {},
   "outputs": [
    {
     "name": "stdout",
     "output_type": "stream",
     "text": [
      "输入年龄：19\n",
      "输入长相：帅\n",
      "输入工资：中等\n",
      "输入工作：\n",
      "不见\n"
     ]
    }
   ],
   "source": [
    "age_ = eval(input('输入年龄：'))\n",
    "if age_ <= 30:\n",
    "    face_ = input('输入长相：')\n",
    "    if face_ == ('帅'):\n",
    "        pay_ = input('输入工资：')\n",
    "        if pay_ == ('中等'):\n",
    "            work_ = input('输入工作：')\n",
    "            if work_  == ('公务员'):\n",
    "                print('见')\n",
    "            else:\n",
    "                print('不见')\n",
    "        else:\n",
    "            print('不见')\n",
    "    else:\n",
    "        print('不见')\n",
    "else:\n",
    "    print('不见')"
   ]
  },
  {
   "cell_type": "markdown",
   "metadata": {},
   "source": [
    "## EP：\n",
    "- 用户输入一个数字，判断其实奇数还是偶数\n",
    "- 进阶：可以查看下4.5实例研究猜生日"
   ]
  },
  {
   "cell_type": "markdown",
   "metadata": {},
   "source": [
    "## 双向if-else 语句\n",
    "- 如果条件为真，那么走if内部语句，否则走else内部语句"
   ]
  },
  {
   "cell_type": "markdown",
   "metadata": {},
   "source": [
    "## EP：\n",
    "- 产生两个随机整数number1和number2，然后显示给用户，使用户输入数字，并判定其是否正确,如果正确打印“you‘re correct”，否则打印正确错误"
   ]
  },
  {
   "cell_type": "markdown",
   "metadata": {},
   "source": [
    "## 嵌套if 和多向if-elif-else\n",
    "![](../Photo/35.png)"
   ]
  },
  {
   "cell_type": "markdown",
   "metadata": {},
   "source": [
    "## EP：\n",
    "- 提示用户输入一个年份，然后显示表示这一年的动物\n",
    "![](../Photo/36.png)\n",
    "- 计算身体质量指数的程序\n",
    "- BMI = 以千克为单位的体重除以以米为单位的身高\n",
    "![](../Photo/37.png)"
   ]
  },
  {
   "cell_type": "code",
   "execution_count": 3,
   "metadata": {
    "scrolled": true
   },
   "outputs": [
    {
     "name": "stdout",
     "output_type": "stream",
     "text": [
      "输入年： 1995\n",
      "猪\n"
     ]
    }
   ],
   "source": [
    "year = eval(input('输入年： '))\n",
    "nian = year % 12\n",
    "if nian != 0:\n",
    "        if nian !=1:\n",
    "            if nian !=2:\n",
    "                if nian !=3:\n",
    "                    if nian !=4:\n",
    "                        if nian !=5:\n",
    "                            if nian !=6:\n",
    "                                if nian != 7:\n",
    "                                    if nian !=8:\n",
    "                                        if nian !=9:\n",
    "                                            if nian !=10:\n",
    "                                                print('羊')\n",
    "                                            else:\n",
    "                                                print('马')\n",
    "                                        else:\n",
    "                                            print('蛇')\n",
    "                                    else:\n",
    "                                        print('龙')\n",
    "                                else:\n",
    "                                    print('兔')\n",
    "                            else:\n",
    "                                print('虎')\n",
    "                        else:\n",
    "                            print('牛')\n",
    "                    else:\n",
    "                        print('鼠')\n",
    "                else:\n",
    "                    print('猪')\n",
    "            else:\n",
    "                print('狗')\n",
    "        else:\n",
    "            print('鸡')\n",
    "else:\n",
    "    print('猴')\n",
    "    "
   ]
  },
  {
   "cell_type": "code",
   "execution_count": 10,
   "metadata": {},
   "outputs": [
    {
     "name": "stdout",
     "output_type": "stream",
     "text": [
      "输入体重（kg）身高（m） 70,1.76\n",
      "标准\n"
     ]
    }
   ],
   "source": [
    "tizhong,shengao = eval(input('输入体重（kg）身高（m） '))\n",
    "BMI = tizhong / (shengao*shengao)\n",
    "if BMI>= 30.0:\n",
    "   print('痴肥')\n",
    "elif 30.0 > BMI >=25.0:\n",
    "   print('超重')\n",
    "elif 25.0 > BMI >=18.5:\n",
    "   print('标准')\n",
    "elif BMI <=18.5:\n",
    "   print('超轻')"
   ]
  },
  {
   "cell_type": "markdown",
   "metadata": {},
   "source": [
    "## 逻辑运算符\n",
    "![](../Photo/38.png)"
   ]
  },
  {
   "cell_type": "markdown",
   "metadata": {},
   "source": [
    "![](../Photo/39.png)\n",
    "![](../Photo/40.png)"
   ]
  },
  {
   "cell_type": "markdown",
   "metadata": {},
   "source": [
    "## EP：\n",
    "- 判定闰年：一个年份如果能被4整除但不能被100整除，或者能被400整除，那么这个年份就是闰年\n",
    "- 提示用户输入一个年份，并返回是否是闰年\n",
    "- 提示用户输入一个数字，判断其是否为水仙花数"
   ]
  },
  {
   "cell_type": "code",
   "execution_count": 7,
   "metadata": {},
   "outputs": [
    {
     "name": "stdout",
     "output_type": "stream",
     "text": [
      "请输入年份： 1999\n",
      "不闰\n"
     ]
    }
   ],
   "source": [
    "nian = eval(input('请输入年份： '))\n",
    "if ((nian%4 == 0) and (nian%100 !=0)) or (nian % 400 == 0):\n",
    "    print('闰')\n",
    "else:\n",
    "    print('不闰')"
   ]
  },
  {
   "cell_type": "code",
   "execution_count": 6,
   "metadata": {},
   "outputs": [
    {
     "name": "stdout",
     "output_type": "stream",
     "text": [
      "请输入数 100-999： 153\n",
      "水仙花数\n"
     ]
    }
   ],
   "source": [
    "shu = eval(input('请输入数 100-999： '))\n",
    "ge = shu %10\n",
    "shi = (shu//10)%10\n",
    "bai = shu//100\n",
    "if ge**3+shi**3+bai**3 == shu:\n",
    "    print('水仙花数')\n",
    "else:\n",
    "    print('no')"
   ]
  },
  {
   "cell_type": "markdown",
   "metadata": {},
   "source": [
    "## 实例研究：彩票\n",
    "![](../Photo/41.png)"
   ]
  },
  {
   "cell_type": "code",
   "execution_count": 12,
   "metadata": {},
   "outputs": [
    {
     "name": "stdout",
     "output_type": "stream",
     "text": [
      "24\n",
      "输入一个两位数：42\n",
      "恭喜你获得3000美元奖金！\n"
     ]
    }
   ],
   "source": [
    "import random\n",
    "num1 = random.randint(1,9)\n",
    "num2 = random.randint(0,9)\n",
    "num = str(num1) + str(num2)\n",
    "print(num)\n",
    "input_num = input('输入一个两位数：')\n",
    "if input_num==num:\n",
    "    print('恭喜你获得10000美元奖金！')\n",
    "elif (input_num[0] == num[1]) and (input_num[1] == num[0]):\n",
    "    print('恭喜你获得3000美元奖金！')\n",
    "elif (input_num[0] == num[0])or(input_num[0] == num[1])or(input_num[1] == num[0])or(input_num[1] == num[1]):\n",
    "    print('恭喜你获得1000美元奖金！')\n",
    "else:\n",
    "    print('很遗憾你没有中奖！')"
   ]
  },
  {
   "cell_type": "markdown",
   "metadata": {},
   "source": [
    "# Homework\n",
    "- 1\n",
    "![](../Photo/42.png)"
   ]
  },
  {
   "cell_type": "code",
   "execution_count": 26,
   "metadata": {},
   "outputs": [
    {
     "name": "stdout",
     "output_type": "stream",
     "text": [
      "输入a,b,c: 1,2.0,1\n",
      "-1.0\n"
     ]
    }
   ],
   "source": [
    "import math\n",
    "a,b,c = eval(input('输入a,b,c: '))\n",
    "if b**2-4*a*c >0:\n",
    "    r1 = (-b+math.sqrt(b**2-4*a*c))/2*a\n",
    "    r2 = (-b-math.sqrt(b**2-4*a*c))/2*a\n",
    "    r3 = (-b)/2*a\n",
    "    print(str(r1),str(r2))\n",
    "elif b**2-4*a*c == 0:\n",
    "    print(str(r3))\n",
    "else:\n",
    "    print('The equation has no real roots')"
   ]
  },
  {
   "cell_type": "markdown",
   "metadata": {},
   "source": [
    "- 2\n",
    "![](../Photo/43.png)"
   ]
  },
  {
   "cell_type": "code",
   "execution_count": 25,
   "metadata": {},
   "outputs": [
    {
     "name": "stdout",
     "output_type": "stream",
     "text": [
      "随机数1： 9\n",
      "随机数2： 13\n",
      ">>22\n",
      "Ture\n"
     ]
    }
   ],
   "source": [
    "import random\n",
    "number1 = random.randint(1,100)\n",
    "print('随机数1： '+str(number1))\n",
    "number2 = random.randint(1,100)\n",
    "print('随机数2： '+str(number2))\n",
    "while True:\n",
    "    num = eval(input('>>'))\n",
    "    if num == number1 + number2:\n",
    "        print('Ture')\n",
    "        break\n",
    "    else:\n",
    "        print('False')\n",
    "        break"
   ]
  },
  {
   "cell_type": "markdown",
   "metadata": {},
   "source": [
    "- 3\n",
    "![](../Photo/44.png)"
   ]
  },
  {
   "cell_type": "code",
   "execution_count": 4,
   "metadata": {},
   "outputs": [
    {
     "name": "stdout",
     "output_type": "stream",
     "text": [
      "Enter today's day: 2\n",
      "Enter the number of days elapsed since today: 12\n",
      "Today is Tuesday and the future day is Sunday\n"
     ]
    }
   ],
   "source": [
    "jin = eval(input('Enter today\\'s day: '))\n",
    "zhi = eval(input('Enter the number of days elapsed since today: '))\n",
    "res = (jin + zhi) %7\n",
    "xx  = ['Sunday','Monday','Tuesday','Wednesday','Thursday','Friday','Saturday']\n",
    "print('Today is '+xx[jin]+' and the future day is '+xx[res])"
   ]
  },
  {
   "cell_type": "markdown",
   "metadata": {},
   "source": [
    "- 4\n",
    "![](../Photo/45.png)"
   ]
  },
  {
   "cell_type": "code",
   "execution_count": 32,
   "metadata": {},
   "outputs": [
    {
     "name": "stdout",
     "output_type": "stream",
     "text": [
      "请输入三个整数： 5,6,2\n",
      "2 5 6\n"
     ]
    }
   ],
   "source": [
    "a,b,c = eval(input('请输入三个整数： '))\n",
    "print(min(a,b,c),a+b+c-max(a,b,c)-min(a,b,c),max(a,b,c))\n",
    "    "
   ]
  },
  {
   "cell_type": "markdown",
   "metadata": {},
   "source": [
    "- 5\n",
    "![](../Photo/46.png)"
   ]
  },
  {
   "cell_type": "code",
   "execution_count": 34,
   "metadata": {},
   "outputs": [
    {
     "name": "stdout",
     "output_type": "stream",
     "text": [
      "Enter weight and price for package 1: 50,24.59\n",
      "Enter weight and price for package 2: 25,11.99\n",
      "Package 2 has the better price \n"
     ]
    }
   ],
   "source": [
    "zhong1,jia1= eval(input('Enter weight and price for package 1: '))\n",
    "zhong2,jia2 = eval(input('Enter weight and price for package 2: '))\n",
    "if zhong1/jia1 > zhong2/jia2:\n",
    "    print('Package 1 has the better price ')\n",
    "else:\n",
    "    print('Package 2 has the better price ')"
   ]
  },
  {
   "cell_type": "markdown",
   "metadata": {},
   "source": [
    "- 6\n",
    "![](../Photo/47.png)"
   ]
  },
  {
   "cell_type": "code",
   "execution_count": 52,
   "metadata": {},
   "outputs": [
    {
     "name": "stdout",
     "output_type": "stream",
     "text": [
      "请输入年份： 2001\n",
      "输入月： 2\n",
      "2001年二月有28天\n"
     ]
    }
   ],
   "source": [
    "nian = eval(input('请输入年份： '))\n",
    "yue = eval(input('输入月： '))\n",
    "if yue == 1:\n",
    "    print(str(nian)+'年一月有31天')\n",
    "elif yue == 2 and ((nian%4 == 0) and (nian%100 !=0)) or (nian % 400 == 0):\n",
    "    print(str(nian)+'年二月有29天')\n",
    "elif yue == 2 and ((nian%4 != 0) and (nian%100 ==0)) or (nian % 400 != 0):\n",
    "    print(str(nian)+'年二月有28天')\n",
    "elif yue == 3:\n",
    "    print(str(nian)+'年一月有31天')\n",
    "elif yue == 4:\n",
    "    print(str(nian)+'年一月有30天')\n",
    "elif yue == 5:\n",
    "    print(str(nian)+'年一月有31天')\n",
    "elif yue == 6:\n",
    "    print(str(nian)+'年一月有30天')\n",
    "elif yue == 7:\n",
    "    print(str(nian)+'年一月有31天')\n",
    "elif yue == 8:\n",
    "    print(str(nian)+'年一月有31天')\n",
    "elif yue == 9:\n",
    "    print(str(nian)+'年一月有30天')\n",
    "elif yue == 10:\n",
    "    print(str(nian)+'年一月有31天')\n",
    "elif yue == 11:\n",
    "    print(str(nian)+'年一月有30天')\n",
    "elif yue == 12:\n",
    "    print(str(nian)+'年一月有31天')"
   ]
  },
  {
   "cell_type": "markdown",
   "metadata": {},
   "source": [
    "- 7\n",
    "![](../Photo/48.png)"
   ]
  },
  {
   "cell_type": "code",
   "execution_count": 7,
   "metadata": {},
   "outputs": [
    {
     "name": "stdout",
     "output_type": "stream",
     "text": [
      "输入正反，正为1，反为0: 0\n",
      "正确\n"
     ]
    }
   ],
   "source": [
    "import random\n",
    "cai = eval(input('输入正反，正为1，反为0: '))\n",
    "res = random.randint(0,1)\n",
    "if res == cai:\n",
    "    print('正确')\n",
    "else:\n",
    "    print('错误')"
   ]
  },
  {
   "cell_type": "markdown",
   "metadata": {},
   "source": [
    "- 8\n",
    "![](../Photo/49.png)"
   ]
  },
  {
   "cell_type": "code",
   "execution_count": 119,
   "metadata": {},
   "outputs": [
    {
     "name": "stdout",
     "output_type": "stream",
     "text": [
      "scissor(0),rock(1),paper(2): 1\n",
      "比我还菜\n"
     ]
    }
   ],
   "source": [
    "import random\n",
    "cai = eval(input('scissor(0),rock(1),paper(2): '))\n",
    "res = random.randint(0,2)\n",
    "if cai == res:\n",
    "    print('和我一样菜')\n",
    "elif ((cai-res)==1) or ((cai-res)==-2):\n",
    "    print('厉害了')\n",
    "else:\n",
    "    print('比我还菜')"
   ]
  },
  {
   "cell_type": "markdown",
   "metadata": {},
   "source": [
    "- 9\n",
    "![](../Photo/50.png)"
   ]
  },
  {
   "cell_type": "code",
   "execution_count": 9,
   "metadata": {},
   "outputs": [
    {
     "name": "stdout",
     "output_type": "stream",
     "text": [
      "Enter year：2012\n",
      "Enter month：1-125\n",
      "Enter the day of the month：1-3112\n",
      "Day of the week is 星期六\n"
     ]
    }
   ],
   "source": [
    "year = eval(input('Enter year：'))\n",
    "months = eval(input('Enter month：1-12'))\n",
    "days = eval(input('Enter the day of the month：1-31'))\n",
    "hdayDict = {0:'星期六',1:'星期日', 2: '星期一', 3: '星期二', 4: '星期三', 5: '星期四', 6: '星期五'}\n",
    "monDict = {1: '13', 2: '14', 3: '3', 4: '4', 5: '5', 6: '6', 7: '7', 8: '8', 9: '9', 10: '10', 11: '11', 12: '12'}\n",
    "if months == 1 or months == 2:\n",
    "    year = year - 1 \n",
    "shijishu = year // 100\n",
    "shijiyear = year % 100\n",
    "h = (days + (26 * (eval(monDict[months]) + 1)) // 10 + shijiyear + shijiyear // 4 + shijishu // 4 + 5 * shijishu) % 7\n",
    "print('Day of the week is ' + hdayDict[h])"
   ]
  },
  {
   "cell_type": "markdown",
   "metadata": {},
   "source": [
    "- 10\n",
    "![](../Photo/51.png)"
   ]
  },
  {
   "cell_type": "code",
   "execution_count": null,
   "metadata": {},
   "outputs": [],
   "source": []
  },
  {
   "cell_type": "markdown",
   "metadata": {},
   "source": [
    "- 11\n",
    "![](../Photo/52.png)"
   ]
  },
  {
   "cell_type": "code",
   "execution_count": 10,
   "metadata": {},
   "outputs": [
    {
     "name": "stdout",
     "output_type": "stream",
     "text": [
      "输入一个三位数：232\n",
      "232 is a palindrome\n"
     ]
    }
   ],
   "source": [
    "num = eval(input('输入一个三位数：'))\n",
    "if (num //100) == (num %10):\n",
    "    print(num,'is a palindrome')\n",
    "elif (num //100) != (num %10):\n",
    "     print(num,'is not a palindrome')"
   ]
  },
  {
   "cell_type": "markdown",
   "metadata": {},
   "source": [
    "- 12\n",
    "![](../Photo/53.png)"
   ]
  },
  {
   "cell_type": "code",
   "execution_count": 18,
   "metadata": {},
   "outputs": [
    {
     "name": "stdout",
     "output_type": "stream",
     "text": [
      "a,b,c:1,1,2\n",
      "非法的\n"
     ]
    }
   ],
   "source": [
    "a,b,c = eval(input('a,b,c:'))\n",
    "if (a+b > c) and (a+c > b ) and (b+c > a ):\n",
    "    print('The perimeter',a+b+c)\n",
    "else:\n",
    "    print('非法的')"
   ]
  }
 ],
 "metadata": {
  "kernelspec": {
   "display_name": "Python 3",
   "language": "python",
   "name": "python3"
  },
  "language_info": {
   "codemirror_mode": {
    "name": "ipython",
    "version": 3
   },
   "file_extension": ".py",
   "mimetype": "text/x-python",
   "name": "python",
   "nbconvert_exporter": "python",
   "pygments_lexer": "ipython3",
   "version": "3.6.4"
  }
 },
 "nbformat": 4,
 "nbformat_minor": 2
}
